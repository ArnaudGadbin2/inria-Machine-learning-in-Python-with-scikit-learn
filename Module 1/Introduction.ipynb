{
 "cells": [
  {
   "cell_type": "markdown",
   "id": "2a204551-c759-4492-9d16-21a976753d29",
   "metadata": {},
   "source": [
    "# Introduction"
   ]
  },
  {
   "cell_type": "markdown",
   "id": "1a19d1a2-92b3-4752-a96a-37729da00031",
   "metadata": {},
   "source": [
    "## Intro"
   ]
  },
  {
   "cell_type": "markdown",
   "id": "83480231-206c-4ce5-9abb-43a12269e3ed",
   "metadata": {},
   "source": [
    "- What is machine learning? :\n",
    "    - Machine learning deals with building predictive models\n",
    "    - ex: What type of Iris is it ? Is a person rich ?\n",
    "- ML automates rule creation from the data, including details"
   ]
  },
  {
   "cell_type": "markdown",
   "id": "0115af82-5181-48ab-9403-d03478abd7bf",
   "metadata": {},
   "source": [
    "## Predictive Models"
   ]
  },
  {
   "cell_type": "markdown",
   "id": "34ba52ed-9b66-4200-9815-8c9b3bd84691",
   "metadata": {},
   "source": [
    "- It relies on statistical properties of the data\n",
    "- We want to conclude on new instances\n",
    "- Noise: unexplainable variance, can't be explained solely from the data"
   ]
  },
  {
   "cell_type": "markdown",
   "id": "5337492d-2975-4a84-a5af-991816eeb8b7",
   "metadata": {},
   "source": [
    "## nearest neighbor strategy"
   ]
  },
  {
   "cell_type": "markdown",
   "id": "ebab921b-1719-45d6-aaf6-357a4da1cfdc",
   "metadata": {},
   "source": [
    "Memorize all data and then infer result by finding its closest match in our database."
   ]
  },
  {
   "cell_type": "markdown",
   "id": "059f8bd2-e909-4ad6-a95d-e004e13f8015",
   "metadata": {},
   "source": [
    "Will produce no error on known data, but prone to error with new data"
   ]
  },
  {
   "cell_type": "markdown",
   "id": "ebbe8976-ecaa-4020-be01-9e7c26f4b3c5",
   "metadata": {},
   "source": [
    "# The machine-learning workflow"
   ]
  },
  {
   "cell_type": "markdown",
   "id": "c9052810-3953-4cd7-a13d-9a2c9d0610ce",
   "metadata": {},
   "source": [
    "\"test\" data  ≠  \"train\" data"
   ]
  },
  {
   "cell_type": "markdown",
   "id": "6e3ee522-cf94-4460-8c83-e37a4efecfef",
   "metadata": {},
   "source": [
    "## Data Matrix"
   ]
  },
  {
   "cell_type": "markdown",
   "id": "bc39dddc-ee9b-4256-951c-d87e0a6ad16d",
   "metadata": {},
   "source": [
    "We deal with a table of data (figuratively, an Excel sheet):\n",
    "\n",
    "- Rows are different observations, or **samples**\n",
    "- Columns are different descriptors, or **features**"
   ]
  },
  {
   "cell_type": "markdown",
   "id": "788884da-ca7e-4a3e-8aa0-0f498b8118d8",
   "metadata": {},
   "source": [
    "Data is annotated, they are associated with a label or target"
   ]
  },
  {
   "cell_type": "markdown",
   "id": "e5b1bebd-7ea3-461c-a209-40ba87156deb",
   "metadata": {},
   "source": [
    "The purpose is to predict the target on new data, not annotated"
   ]
  },
  {
   "cell_type": "markdown",
   "id": "2ff73952-00e2-4009-9ee0-f19afd262957",
   "metadata": {},
   "source": [
    "## Supervised ML"
   ]
  },
  {
   "cell_type": "markdown",
   "id": "77bbfb0c-ba7c-4a66-abab-fa1da0d30243",
   "metadata": {},
   "source": [
    "- A data matrix **X** with n observations\n",
    "\n",
    "- A target **y**: a property of each observation\n",
    "\n",
    "The goal is to predict **y** from **X**"
   ]
  },
  {
   "cell_type": "markdown",
   "id": "2c806e90-5dc5-4cde-a12c-815193f9345e",
   "metadata": {},
   "source": [
    "## Unsupervised ML"
   ]
  },
  {
   "cell_type": "markdown",
   "id": "d1b02b98-939b-4989-a036-7a45e866a7c9",
   "metadata": {},
   "source": [
    "- A data matrix **X** with n observations\n",
    "  \n",
    "The goal is to extract from **X** a structure that generalizes.\n",
    "\n",
    "Covers very wide variety of different problems."
   ]
  },
  {
   "cell_type": "markdown",
   "id": "85ecf33b-7992-435c-9422-98e4797abe9f",
   "metadata": {},
   "source": [
    "## Regression and classification"
   ]
  },
  {
   "cell_type": "markdown",
   "id": "298c2eea-86c6-401d-8c68-a4e715497d97",
   "metadata": {},
   "source": [
    "Supervised learning: predicting a target y\n",
    "\n",
    "Two differents tasks:\n",
    "\n",
    "**Classification**: y is discrete (qualitative), made of different classes\n",
    "\n",
    "eg types of irises: Setosa, Versicolor, Virginica\n",
    "\n",
    "**Regression**: y is continuous (quantitative), a numerical quantity\n",
    "\n",
    "eg wage prediction"
   ]
  },
  {
   "cell_type": "markdown",
   "id": "cb2458d2-3528-4c55-8f98-318857dd8de4",
   "metadata": {},
   "source": [
    "# Summary"
   ]
  },
  {
   "cell_type": "markdown",
   "id": "c33dbc2b-edba-41af-8cdb-4c87c592645c",
   "metadata": {},
   "source": [
    "Machine learning is about extracting from data rules that generalizes to new observations\n",
    "\n",
    "We work with:\n",
    "\n",
    "- a data matrix **X** n_samples * n_features\n",
    "- a target **y** of length n_samples, made of numbers for regression and of discrete classes for classification"
   ]
  }
 ],
 "metadata": {
  "kernelspec": {
   "display_name": "Python 3 (ipykernel)",
   "language": "python",
   "name": "python3"
  },
  "language_info": {
   "codemirror_mode": {
    "name": "ipython",
    "version": 3
   },
   "file_extension": ".py",
   "mimetype": "text/x-python",
   "name": "python",
   "nbconvert_exporter": "python",
   "pygments_lexer": "ipython3",
   "version": "3.10.12"
  }
 },
 "nbformat": 4,
 "nbformat_minor": 5
}
