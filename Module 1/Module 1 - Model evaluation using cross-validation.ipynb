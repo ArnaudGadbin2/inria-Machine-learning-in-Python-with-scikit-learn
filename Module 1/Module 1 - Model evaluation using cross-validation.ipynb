{
 "cells": [
  {
   "cell_type": "markdown",
   "id": "3deff0f0-2737-4727-81ec-8cb14bbc2760",
   "metadata": {},
   "source": [
    "# Model evaluation using cross-validation"
   ]
  },
  {
   "cell_type": "markdown",
   "id": "8276e1e0-dbfa-4825-9632-f7413631262a",
   "metadata": {},
   "source": [
    "## Data preparation"
   ]
  },
  {
   "cell_type": "code",
   "execution_count": 2,
   "id": "189ff033-d131-42a6-a003-83bd6e5f293a",
   "metadata": {},
   "outputs": [],
   "source": [
    "import pandas as pd\n",
    "\n",
    "adult_census = pd.read_csv(\"./csv_result-phpMawTba.csv\")\n",
    "\n",
    "target_name = \"class\"\n",
    "target = adult_census[target_name]\n",
    "data = adult_census.drop(columns=target_name)\n",
    "\n",
    "numerical_columns = [\"age\", \"capital-gain\", \"capital-loss\", \"hours-per-week\"]\n",
    "data_numeric = data[numerical_columns]\n",
    "\n",
    "from sklearn.preprocessing import StandardScaler\n",
    "from sklearn.linear_model import LogisticRegression\n",
    "from sklearn.pipeline import make_pipeline\n",
    "\n",
    "model = make_pipeline(StandardScaler(), LogisticRegression())"
   ]
  },
  {
   "cell_type": "markdown",
   "id": "943d039c-e2bf-4310-92bb-1e7074e78573",
   "metadata": {},
   "source": [
    "## Cross-Validation"
   ]
  },
  {
   "cell_type": "markdown",
   "id": "4c95b637-ce12-4c8f-9ea6-1157b65fcf52",
   "metadata": {},
   "source": [
    "Cross-validation consists of repeating the procedure such that the training and testing sets are different each time.\n",
    "\n",
    "Generalization performance metrics are collected for each repetition and then aggregated.\n",
    "\n",
    "As a result we can assess the variability of our measure of the model's generalization performance."
   ]
  },
  {
   "cell_type": "markdown",
   "id": "d030618b-629c-4072-970a-ae39081dd335",
   "metadata": {},
   "source": [
    "## K-fold strategy"
   ]
  },
  {
   "cell_type": "markdown",
   "id": "7289134e-3c05-4172-bbf9-5050824d5676",
   "metadata": {},
   "source": [
    "The entire dataset is split into `K` partitions. The\n",
    "`fit`/`score` procedure is repeated `K` times where at each iteration `K - 1`\n",
    "partitions are used to fit the model and `1` partition is used to score."
   ]
  },
  {
   "cell_type": "markdown",
   "id": "55f0fb51-9c4a-44a2-8dbd-a8e06ec6b22f",
   "metadata": {},
   "source": [
    "![Cross-validation diagram](./cross_validation_diagram.png)"
   ]
  },
  {
   "cell_type": "markdown",
   "id": "3acbdc6d-5234-4a36-a961-199e35554bb1",
   "metadata": {},
   "source": [
    "## `cross_validate`"
   ]
  },
  {
   "cell_type": "markdown",
   "id": "19e8f474-b2da-42b2-baf7-3a593424c150",
   "metadata": {},
   "source": [
    "You need to pass it the model, the data, and the target.\n",
    "\n",
    "`cv` defines the splitting strategy.\n",
    "\n",
    "Setting `cv=5` or `cv=10` is a common practice, as it is a good\n",
    "trade-off between computation time and stability of the estimated variability."
   ]
  },
  {
   "cell_type": "code",
   "execution_count": 4,
   "id": "bb9b69cf-007c-4f92-b6ad-aa15372a49d9",
   "metadata": {},
   "outputs": [
    {
     "name": "stdout",
     "output_type": "stream",
     "text": [
      "CPU times: user 1.2 s, sys: 3.29 s, total: 4.49 s\n",
      "Wall time: 537 ms\n"
     ]
    },
    {
     "data": {
      "text/plain": [
       "{'fit_time': array([0.05187631, 0.08103013, 0.09559274, 0.08064389, 0.07813406]),\n",
       " 'score_time': array([0.02058291, 0.02056813, 0.02045441, 0.02075958, 0.02087069]),\n",
       " 'test_score': array([0.79557785, 0.80049135, 0.79965192, 0.79873055, 0.80456593])}"
      ]
     },
     "execution_count": 4,
     "metadata": {},
     "output_type": "execute_result"
    }
   ],
   "source": [
    "%%time\n",
    "from sklearn.model_selection import cross_validate\n",
    "\n",
    "model = make_pipeline(StandardScaler(), LogisticRegression())\n",
    "cv_result = cross_validate(model, data_numeric, target, cv=5)\n",
    "cv_result"
   ]
  },
  {
   "cell_type": "markdown",
   "id": "4ea829e3-860e-496f-b124-474e52253ec7",
   "metadata": {},
   "source": [
    "The output of `cross_validate` is a Python dictionary, which by default\n",
    "contains three entries:\n",
    "- (i) the time to train the model on the training data for each fold,\n",
    "  `fit_time`\n",
    "- (ii) the time to predict with the model on the testing data for each fold,\n",
    "  `score_time`\n",
    "- (iii) the default score on the testing data for each fold, `test_score`."
   ]
  },
  {
   "cell_type": "code",
   "execution_count": 5,
   "id": "b8a52a97-a3bc-41f7-baae-e640ade0880f",
   "metadata": {},
   "outputs": [
    {
     "name": "stdout",
     "output_type": "stream",
     "text": [
      "The mean cross-validation accuracy is: 0.800 ± 0.003\n"
     ]
    }
   ],
   "source": [
    "scores = cv_result[\"test_score\"]\n",
    "print(\n",
    "    \"The mean cross-validation accuracy is: \"\n",
    "    f\"{scores.mean():.3f} ± {scores.std():.3f}\"\n",
    ")"
   ]
  }
 ],
 "metadata": {
  "kernelspec": {
   "display_name": "Python 3 (ipykernel)",
   "language": "python",
   "name": "python3"
  },
  "language_info": {
   "codemirror_mode": {
    "name": "ipython",
    "version": 3
   },
   "file_extension": ".py",
   "mimetype": "text/x-python",
   "name": "python",
   "nbconvert_exporter": "python",
   "pygments_lexer": "ipython3",
   "version": "3.10.12"
  }
 },
 "nbformat": 4,
 "nbformat_minor": 5
}
