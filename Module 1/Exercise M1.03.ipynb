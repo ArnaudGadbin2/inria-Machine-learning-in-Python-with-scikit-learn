{
 "cells": [
  {
   "cell_type": "markdown",
   "id": "dee0d38a-d58c-4222-b414-c1f3188368ec",
   "metadata": {},
   "source": [
    "# Exercise M1.03"
   ]
  },
  {
   "cell_type": "markdown",
   "id": "ad0e14e1-3c0c-4577-92b2-2d003a34fcb5",
   "metadata": {},
   "source": [
    "Import, split data, select only numerical values"
   ]
  },
  {
   "cell_type": "code",
   "execution_count": 3,
   "id": "34d0cd30-777d-40cc-9c87-6eb6b76c1761",
   "metadata": {},
   "outputs": [],
   "source": [
    "import pandas as pd\n",
    "\n",
    "adult_census = pd.read_csv(\"./csv_result-phpMawTba.csv\")"
   ]
  },
  {
   "cell_type": "code",
   "execution_count": 4,
   "id": "b8eb99ca-71b6-4f1f-bdbb-e0c38d81080a",
   "metadata": {},
   "outputs": [],
   "source": [
    "target_name = \"class\"\n",
    "target = adult_census[target_name]\n",
    "data = adult_census.drop(columns=target_name)"
   ]
  },
  {
   "cell_type": "code",
   "execution_count": 5,
   "id": "fe39a6ed-9720-42b8-ab9a-05434b0df509",
   "metadata": {},
   "outputs": [],
   "source": [
    "numerical_columns = [\"age\", \"capital-gain\", \"capital-loss\", \"hours-per-week\"]\n",
    "\n",
    "data_numeric = data[numerical_columns]"
   ]
  },
  {
   "cell_type": "code",
   "execution_count": 6,
   "id": "07c752e4-2eb0-4c5c-bade-c4160386b0fd",
   "metadata": {},
   "outputs": [],
   "source": [
    "from sklearn.model_selection import train_test_split\n",
    "\n",
    "data_train, data_test, target_train, target_test = train_test_split(\n",
    "    data_numeric, target, random_state=42, test_size=0.25\n",
    ")"
   ]
  },
  {
   "cell_type": "markdown",
   "id": "67b6a15e-8c24-49b2-a951-4f397bc4e5ad",
   "metadata": {},
   "source": [
    "Dummy Classifier always predict the class '>50K'"
   ]
  },
  {
   "cell_type": "code",
   "execution_count": 8,
   "id": "0bb5ff93-ff05-48f7-8aa6-774d367c482b",
   "metadata": {},
   "outputs": [],
   "source": [
    "from sklearn.dummy import DummyClassifier"
   ]
  },
  {
   "cell_type": "code",
   "execution_count": 10,
   "id": "3914e595-c634-435d-a977-7b7b36a0d9b6",
   "metadata": {},
   "outputs": [
    {
     "data": {
      "text/plain": [
       "0.23396937187781508"
      ]
     },
     "execution_count": 10,
     "metadata": {},
     "output_type": "execute_result"
    }
   ],
   "source": [
    "dummy1 = DummyClassifier(strategy='constant', random_state=0, constant='>50K')\n",
    "dummy1.fit(data_test, target_test)\n",
    "dummy1.score(data_test, target_test)"
   ]
  },
  {
   "cell_type": "markdown",
   "id": "3cc8fa45-e99a-4597-b091-e126664eb408",
   "metadata": {},
   "source": [
    "Dummy Classifier always predict the class '<50K'"
   ]
  },
  {
   "cell_type": "code",
   "execution_count": 11,
   "id": "261792f4-ec84-4a6b-8dc3-6011249f8760",
   "metadata": {},
   "outputs": [
    {
     "data": {
      "text/plain": [
       "0.7660306281221849"
      ]
     },
     "execution_count": 11,
     "metadata": {},
     "output_type": "execute_result"
    }
   ],
   "source": [
    "dummy2 = DummyClassifier(strategy='constant', random_state=0, constant='<=50K')\n",
    "dummy2.fit(data_test, target_test)\n",
    "dummy2.score(data_test, target_test)"
   ]
  }
 ],
 "metadata": {
  "kernelspec": {
   "display_name": "Python 3 (ipykernel)",
   "language": "python",
   "name": "python3"
  },
  "language_info": {
   "codemirror_mode": {
    "name": "ipython",
    "version": 3
   },
   "file_extension": ".py",
   "mimetype": "text/x-python",
   "name": "python",
   "nbconvert_exporter": "python",
   "pygments_lexer": "ipython3",
   "version": "3.10.12"
  }
 },
 "nbformat": 4,
 "nbformat_minor": 5
}
