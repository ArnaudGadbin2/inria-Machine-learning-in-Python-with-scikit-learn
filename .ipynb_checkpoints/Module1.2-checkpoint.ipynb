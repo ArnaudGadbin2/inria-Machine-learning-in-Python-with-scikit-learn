{
 "cells": [
  {
   "cell_type": "markdown",
   "id": "082ae6ff-9d8a-40b2-969a-2681d3c86a6a",
   "metadata": {},
   "source": [
    "# Module 1:  First model with scikit-learn"
   ]
  },
  {
   "cell_type": "code",
   "execution_count": 1,
   "id": "fe73bc50-b5ae-4b43-b676-87bf9b6178b8",
   "metadata": {},
   "outputs": [],
   "source": [
    "import pandas as pd\n",
    "\n",
    "adult_census = pd.read_csv(\"./csv_result-numeric-train set.csv\")"
   ]
  },
  {
   "cell_type": "code",
   "execution_count": 2,
   "id": "0f6624f5-7e57-4277-8a60-c54d3b22a1c9",
   "metadata": {},
   "outputs": [
    {
     "data": {
      "text/html": [
       "<div>\n",
       "<style scoped>\n",
       "    .dataframe tbody tr th:only-of-type {\n",
       "        vertical-align: middle;\n",
       "    }\n",
       "\n",
       "    .dataframe tbody tr th {\n",
       "        vertical-align: top;\n",
       "    }\n",
       "\n",
       "    .dataframe thead th {\n",
       "        text-align: right;\n",
       "    }\n",
       "</style>\n",
       "<table border=\"1\" class=\"dataframe\">\n",
       "  <thead>\n",
       "    <tr style=\"text-align: right;\">\n",
       "      <th></th>\n",
       "      <th>id</th>\n",
       "      <th>age</th>\n",
       "      <th>capital-gain</th>\n",
       "      <th>capital-loss</th>\n",
       "      <th>hours-per-week</th>\n",
       "      <th>class</th>\n",
       "    </tr>\n",
       "  </thead>\n",
       "  <tbody>\n",
       "    <tr>\n",
       "      <th>0</th>\n",
       "      <td>1</td>\n",
       "      <td>25</td>\n",
       "      <td>0</td>\n",
       "      <td>0</td>\n",
       "      <td>40</td>\n",
       "      <td>&lt;=50K</td>\n",
       "    </tr>\n",
       "    <tr>\n",
       "      <th>1</th>\n",
       "      <td>2</td>\n",
       "      <td>38</td>\n",
       "      <td>0</td>\n",
       "      <td>0</td>\n",
       "      <td>50</td>\n",
       "      <td>&lt;=50K</td>\n",
       "    </tr>\n",
       "    <tr>\n",
       "      <th>2</th>\n",
       "      <td>3</td>\n",
       "      <td>28</td>\n",
       "      <td>0</td>\n",
       "      <td>0</td>\n",
       "      <td>40</td>\n",
       "      <td>&gt;50K</td>\n",
       "    </tr>\n",
       "    <tr>\n",
       "      <th>3</th>\n",
       "      <td>4</td>\n",
       "      <td>44</td>\n",
       "      <td>7688</td>\n",
       "      <td>0</td>\n",
       "      <td>40</td>\n",
       "      <td>&gt;50K</td>\n",
       "    </tr>\n",
       "    <tr>\n",
       "      <th>4</th>\n",
       "      <td>5</td>\n",
       "      <td>18</td>\n",
       "      <td>0</td>\n",
       "      <td>0</td>\n",
       "      <td>30</td>\n",
       "      <td>&lt;=50K</td>\n",
       "    </tr>\n",
       "  </tbody>\n",
       "</table>\n",
       "</div>"
      ],
      "text/plain": [
       "   id  age  capital-gain  capital-loss  hours-per-week  class\n",
       "0   1   25             0             0              40  <=50K\n",
       "1   2   38             0             0              50  <=50K\n",
       "2   3   28             0             0              40   >50K\n",
       "3   4   44          7688             0              40   >50K\n",
       "4   5   18             0             0              30  <=50K"
      ]
     },
     "execution_count": 2,
     "metadata": {},
     "output_type": "execute_result"
    }
   ],
   "source": [
    "adult_census.head()"
   ]
  },
  {
   "cell_type": "markdown",
   "id": "a49cae18-9ef0-4e0c-ad18-dd4d5e856194",
   "metadata": {},
   "source": [
    "## Trim dataset"
   ]
  },
  {
   "cell_type": "code",
   "execution_count": 3,
   "id": "22a8fa87-5f92-4199-8b27-f985c576e4a3",
   "metadata": {},
   "outputs": [
    {
     "data": {
      "text/plain": [
       "0        <=50K\n",
       "1        <=50K\n",
       "2         >50K\n",
       "3         >50K\n",
       "4        <=50K\n",
       "         ...  \n",
       "48837    <=50K\n",
       "48838     >50K\n",
       "48839    <=50K\n",
       "48840    <=50K\n",
       "48841     >50K\n",
       "Name: class, Length: 48842, dtype: object"
      ]
     },
     "execution_count": 3,
     "metadata": {},
     "output_type": "execute_result"
    }
   ],
   "source": [
    "target_name = \"class\"\n",
    "target = adult_census[target_name]\n",
    "target"
   ]
  },
  {
   "cell_type": "code",
   "execution_count": 4,
   "id": "119ac2eb-4e1f-47f6-9ab6-a4bdaf0a318a",
   "metadata": {},
   "outputs": [
    {
     "data": {
      "text/html": [
       "<div>\n",
       "<style scoped>\n",
       "    .dataframe tbody tr th:only-of-type {\n",
       "        vertical-align: middle;\n",
       "    }\n",
       "\n",
       "    .dataframe tbody tr th {\n",
       "        vertical-align: top;\n",
       "    }\n",
       "\n",
       "    .dataframe thead th {\n",
       "        text-align: right;\n",
       "    }\n",
       "</style>\n",
       "<table border=\"1\" class=\"dataframe\">\n",
       "  <thead>\n",
       "    <tr style=\"text-align: right;\">\n",
       "      <th></th>\n",
       "      <th>id</th>\n",
       "      <th>age</th>\n",
       "      <th>capital-gain</th>\n",
       "      <th>capital-loss</th>\n",
       "      <th>hours-per-week</th>\n",
       "    </tr>\n",
       "  </thead>\n",
       "  <tbody>\n",
       "    <tr>\n",
       "      <th>0</th>\n",
       "      <td>1</td>\n",
       "      <td>25</td>\n",
       "      <td>0</td>\n",
       "      <td>0</td>\n",
       "      <td>40</td>\n",
       "    </tr>\n",
       "    <tr>\n",
       "      <th>1</th>\n",
       "      <td>2</td>\n",
       "      <td>38</td>\n",
       "      <td>0</td>\n",
       "      <td>0</td>\n",
       "      <td>50</td>\n",
       "    </tr>\n",
       "    <tr>\n",
       "      <th>2</th>\n",
       "      <td>3</td>\n",
       "      <td>28</td>\n",
       "      <td>0</td>\n",
       "      <td>0</td>\n",
       "      <td>40</td>\n",
       "    </tr>\n",
       "    <tr>\n",
       "      <th>3</th>\n",
       "      <td>4</td>\n",
       "      <td>44</td>\n",
       "      <td>7688</td>\n",
       "      <td>0</td>\n",
       "      <td>40</td>\n",
       "    </tr>\n",
       "    <tr>\n",
       "      <th>4</th>\n",
       "      <td>5</td>\n",
       "      <td>18</td>\n",
       "      <td>0</td>\n",
       "      <td>0</td>\n",
       "      <td>30</td>\n",
       "    </tr>\n",
       "  </tbody>\n",
       "</table>\n",
       "</div>"
      ],
      "text/plain": [
       "   id  age  capital-gain  capital-loss  hours-per-week\n",
       "0   1   25             0             0              40\n",
       "1   2   38             0             0              50\n",
       "2   3   28             0             0              40\n",
       "3   4   44          7688             0              40\n",
       "4   5   18             0             0              30"
      ]
     },
     "execution_count": 4,
     "metadata": {},
     "output_type": "execute_result"
    }
   ],
   "source": [
    "data = adult_census.drop(columns=[target_name])\n",
    "data.head()"
   ]
  },
  {
   "cell_type": "markdown",
   "id": "94aef57b-828b-4501-aae4-61ea8b336d53",
   "metadata": {},
   "source": [
    "# Model"
   ]
  },
  {
   "cell_type": "markdown",
   "id": "2f98b652-4d42-4bb7-abc7-f62876949cc5",
   "metadata": {},
   "source": [
    "## Learning: .fit()"
   ]
  },
  {
   "cell_type": "markdown",
   "id": "315dc0a3-23a2-4f1d-8184-329953a1344c",
   "metadata": {},
   "source": [
    "In scikit-learn an object that has a fit method is called an **estimator**. The method fit is composed of two elements: (i) a learning algorithm and (ii) some model states. The learning algorithm takes the training data and training target as input and sets the model states. These model states are later used to either predict (for classifiers and regressors) or transform data (for transformers).\n",
    "\n",
    "![Predictor predict diagram](./api_diagram-predictor.fit.svg)"
   ]
  },
  {
   "cell_type": "markdown",
   "id": "37c2f16c-d9a4-415f-a3aa-bee7532151a3",
   "metadata": {},
   "source": [
    "Generally:\n",
    "- data   = X\n",
    "- target = Y"
   ]
  },
  {
   "cell_type": "code",
   "execution_count": 6,
   "id": "5dd7b354-d3ba-476f-a912-c6a8b03c066e",
   "metadata": {},
   "outputs": [],
   "source": [
    "from sklearn.neighbors import KNeighborsClassifier\n",
    "\n",
    "model = KNeighborsClassifier()\n",
    "_ = model.fit(data, target)"
   ]
  },
  {
   "cell_type": "markdown",
   "id": "6b54b5e6-225b-40f0-9599-a9576f503d75",
   "metadata": {},
   "source": [
    "## Predict: .predict()"
   ]
  },
  {
   "cell_type": "markdown",
   "id": "ee30d57b-f925-4a35-94d7-6aa15295923e",
   "metadata": {},
   "source": [
    "An estimator (an object with a `fit` method) with a `predict` method is called\n",
    "a **predictor**.\n",
    "\n",
    "![Predictor predict diagram](./api_diagram-predictor.predict.svg)\n",
    "\n",
    "To predict, a model uses a **prediction function** that uses the input data\n",
    "together with the model states. As for the learning algorithm and the model\n",
    "states, the prediction function is specific for each type of model."
   ]
  },
  {
   "cell_type": "markdown",
   "id": "853bcf9d-ebd7-4e4f-b12a-98de4ba341c1",
   "metadata": {},
   "source": [
    "`predict` function with first 5 predictions:"
   ]
  },
  {
   "cell_type": "code",
   "execution_count": 7,
   "id": "dd992bbd-416d-4eac-8c55-e15f5a286f22",
   "metadata": {},
   "outputs": [
    {
     "data": {
      "text/plain": [
       "array(['<=50K', '<=50K', '<=50K', '>50K', '<=50K'], dtype=object)"
      ]
     },
     "execution_count": 7,
     "metadata": {},
     "output_type": "execute_result"
    }
   ],
   "source": [
    "target_predicted = model.predict(data)\n",
    "target_predicted[:5]"
   ]
  },
  {
   "cell_type": "markdown",
   "id": "6c828019-5b19-44ad-a95c-ac07c2df3db9",
   "metadata": {},
   "source": [
    "Check with the actual data:"
   ]
  },
  {
   "cell_type": "code",
   "execution_count": 8,
   "id": "2b7da6de-07ce-4d7e-8130-2c2fc5de7147",
   "metadata": {},
   "outputs": [
    {
     "data": {
      "text/plain": [
       "0    <=50K\n",
       "1    <=50K\n",
       "2     >50K\n",
       "3     >50K\n",
       "4    <=50K\n",
       "Name: class, dtype: object"
      ]
     },
     "execution_count": 8,
     "metadata": {},
     "output_type": "execute_result"
    }
   ],
   "source": [
    "target[:5]"
   ]
  },
  {
   "cell_type": "markdown",
   "id": "18f9ae4a-dcde-479b-8995-9efcb338d0bc",
   "metadata": {},
   "source": [
    "Compare with data:"
   ]
  },
  {
   "cell_type": "code",
   "execution_count": 10,
   "id": "e8926ec8-8e80-4039-998e-110db9b6e462",
   "metadata": {},
   "outputs": [
    {
     "data": {
      "text/plain": [
       "0     True\n",
       "1     True\n",
       "2    False\n",
       "3     True\n",
       "4     True\n",
       "Name: class, dtype: bool"
      ]
     },
     "execution_count": 10,
     "metadata": {},
     "output_type": "execute_result"
    }
   ],
   "source": [
    "target[:5] == target_predicted[:5]"
   ]
  },
  {
   "cell_type": "markdown",
   "id": "0e4e98fb-6235-4c87-8f07-7b4e28b65cd3",
   "metadata": {},
   "source": [
    "Average success rate:"
   ]
  },
  {
   "cell_type": "code",
   "execution_count": 11,
   "id": "030c06e0-5944-4ddf-9b4e-21a2bfe9377e",
   "metadata": {},
   "outputs": [
    {
     "data": {
      "text/plain": [
       "0.8433725072683347"
      ]
     },
     "execution_count": 11,
     "metadata": {},
     "output_type": "execute_result"
    }
   ],
   "source": [
    "(target == target_predicted).mean()"
   ]
  },
  {
   "cell_type": "markdown",
   "id": "9aecfba1-ef0b-4432-8ae9-f1411773974d",
   "metadata": {},
   "source": [
    "High success rate, `but fit` and `predict` used the same data."
   ]
  },
  {
   "cell_type": "markdown",
   "id": "a79aee28-1dc0-44cf-83df-eac6c5186b23",
   "metadata": {},
   "source": [
    "## Train-test data split"
   ]
  },
  {
   "cell_type": "markdown",
   "id": "1c710dd7-de19-453f-85ec-1b85bcf9a621",
   "metadata": {},
   "source": [
    "Correct evaluation is easily done by leaving out a subset of the data when training the model and using it afterwards for model evaluation."
   ]
  },
  {
   "cell_type": "markdown",
   "id": "96b46a78-e575-4a23-8cd0-4349998e69b4",
   "metadata": {},
   "source": [
    "The data used to fit a model is called **training data** while the data used to assess a model is called **testing data**."
   ]
  },
  {
   "cell_type": "code",
   "execution_count": 13,
   "id": "20c35753-ce0a-4680-beba-f98ba607058b",
   "metadata": {},
   "outputs": [],
   "source": [
    "adult_census_test = pd.read_csv(\"./csv_result-numeric - test set.csv\")"
   ]
  },
  {
   "cell_type": "code",
   "execution_count": 15,
   "id": "67c45b9e-ffc8-45ec-9a8f-2504620cba01",
   "metadata": {},
   "outputs": [],
   "source": [
    "target_test = adult_census_test[target_name]\n",
    "data_test = adult_census_test.drop(columns=[target_name])"
   ]
  },
  {
   "cell_type": "code",
   "execution_count": 17,
   "id": "6d3f204b-0595-486b-a06c-02c0aeb32b5f",
   "metadata": {},
   "outputs": [
    {
     "name": "stdout",
     "output_type": "stream",
     "text": [
      "The test accuracy using a KNeighborsClassifier is 0.839\n"
     ]
    }
   ],
   "source": [
    "accuracy = model.score(data_test, target_test)\n",
    "model_name = model.__class__.__name__\n",
    "\n",
    "print(f\"The test accuracy using a {model_name} is {accuracy:.3f}\")"
   ]
  },
  {
   "cell_type": "markdown",
   "id": "754b9b94-b169-41f5-ab74-bc73f14a44e3",
   "metadata": {},
   "source": [
    "We use the generic term **model** for objects whose goodness of fit can be\n",
    "measured using the `score` method:\n",
    "\n",
    "![Predictor score diagram](./api_diagram-predictor.score.svg)\n",
    "\n",
    "To compute the score, the predictor first computes the predictions (using the\n",
    "`predict` method) and then uses a scoring function to compare the true target\n",
    "`y` and the predictions. Finally, the score is returned."
   ]
  }
 ],
 "metadata": {
  "kernelspec": {
   "display_name": "Python 3 (ipykernel)",
   "language": "python",
   "name": "python3"
  },
  "language_info": {
   "codemirror_mode": {
    "name": "ipython",
    "version": 3
   },
   "file_extension": ".py",
   "mimetype": "text/x-python",
   "name": "python",
   "nbconvert_exporter": "python",
   "pygments_lexer": "ipython3",
   "version": "3.10.12"
  }
 },
 "nbformat": 4,
 "nbformat_minor": 5
}
